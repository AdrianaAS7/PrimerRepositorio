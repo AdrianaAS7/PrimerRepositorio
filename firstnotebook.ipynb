{
  "nbformat": 4,
  "nbformat_minor": 0,
  "metadata": {
    "colab": {
      "provenance": [],
      "authorship_tag": "ABX9TyMMgHfZCuye+qotnX+BBSCW",
      "include_colab_link": true
    },
    "kernelspec": {
      "name": "python3",
      "display_name": "Python 3"
    },
    "language_info": {
      "name": "python"
    }
  },
  "cells": [
    {
      "cell_type": "markdown",
      "metadata": {
        "id": "view-in-github",
        "colab_type": "text"
      },
      "source": [
        "<a href=\"https://colab.research.google.com/github/AdrianaAS7/PrimerRepositorio/blob/main/firstnotebook.ipynb\" target=\"_parent\"><img src=\"https://colab.research.google.com/assets/colab-badge.svg\" alt=\"Open In Colab\"/></a>"
      ]
    },
    {
      "cell_type": "code",
      "source": [
        "suma= 3+5\n",
        "print(suma)\n"
      ],
      "metadata": {
        "colab": {
          "base_uri": "https://localhost:8080/"
        },
        "id": "St093bGkOvri",
        "outputId": "b2a6b93f-032b-4c47-faa5-ffbdff868b94"
      },
      "execution_count": null,
      "outputs": [
        {
          "output_type": "stream",
          "name": "stdout",
          "text": [
            "8\n"
          ]
        }
      ]
    },
    {
      "cell_type": "code",
      "source": [
        "print(\"Hello world\")\n",
        "print(\"Hello colab\")"
      ],
      "metadata": {
        "colab": {
          "base_uri": "https://localhost:8080/"
        },
        "id": "5XIwOwcnJUl9",
        "outputId": "8c735625-6928-487b-bd9d-a09a8a38085a"
      },
      "execution_count": null,
      "outputs": [
        {
          "output_type": "stream",
          "name": "stdout",
          "text": [
            "Hello world\n",
            "Hello colab\n"
          ]
        }
      ]
    },
    {
      "cell_type": "code",
      "source": [],
      "metadata": {
        "id": "Z9Nv_bZEKTn7"
      },
      "execution_count": null,
      "outputs": []
    },
    {
      "cell_type": "markdown",
      "source": [
        "**Probando**\n",
        "*Tryng*\n",
        "Getting\n",
        "\n",
        "\n",
        "\n",
        "```\n",
        "print (\"Hello world\")\n",
        "```\n",
        "\n",
        "\n",
        "\n",
        "\n",
        "*   Running\n",
        "*   Learning\n",
        "\n",
        "\n",
        "\n",
        "1.   Sample\n",
        "2.   Sample 2\n",
        "\n"
      ],
      "metadata": {
        "id": "5mXFu4X5KzX9"
      }
    },
    {
      "cell_type": "markdown",
      "source": [
        "<font color=\"green\">Hello</font>"
      ],
      "metadata": {
        "id": "EJkKMKK1Oaa2"
      }
    }
  ]
}